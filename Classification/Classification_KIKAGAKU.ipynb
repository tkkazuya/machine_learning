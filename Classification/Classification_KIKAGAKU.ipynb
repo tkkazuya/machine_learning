{
  "cells": [
    {
      "cell_type": "markdown",
      "id": "c8caea02",
      "metadata": {
        "id": "c8caea02"
      },
      "source": [
        "# **Understanding the Overall Concept of Classification through Decision Tree Implementation**"
      ]
    },
    {
      "cell_type": "markdown",
      "source": [
        "### 1. Prepation of dataset\n",
        "### 2. Download dataset, create dataframe, split data\n",
        "### 3. Prediction\n",
        "### 4. Visualization\n",
        "### 5. Implementation of **SVM**\n",
        "### 6.Implementation of **Logistic Regression**"
      ],
      "metadata": {
        "id": "PyJRHn1GYiSQ"
      },
      "id": "PyJRHn1GYiSQ"
    },
    {
      "cell_type": "markdown",
      "id": "8d394843",
      "metadata": {
        "id": "8d394843"
      },
      "source": [
        "Reference：\n",
        "- <https://qiita.com/ao_log/items/fe9bd42fd249c2a7ee7a>\n",
        "- <https://qiita.com/sugulu_Ogawa_ISID/items/c0e8a5e6b177bfe05e99#21-%E5%91%BD%E5%90%8D%E6%96%B9%E6%B3%952reverse-notation%E9%80%86%E8%A8%98%E6%B3%95%E3%81%A7%E5%91%BD%E5%90%8D%E3%81%97%E8%AA%AD%E3%81%BF%E5%8F%96%E3%82%8A%E3%82%84%E3%81%99%E3%81%8F%E3%81%99%E3%82%8B>"
      ]
    },
    {
      "cell_type": "markdown",
      "source": [
        "## **(1) Import modules, Preparation of dataset**\n"
      ],
      "metadata": {
        "id": "aHNr1IynaSh-"
      },
      "id": "aHNr1IynaSh-"
    },
    {
      "cell_type": "code",
      "execution_count": 45,
      "id": "20b72d34-7386-4770-a314-12cf1a8d6a6f",
      "metadata": {
        "id": "20b72d34-7386-4770-a314-12cf1a8d6a6f"
      },
      "outputs": [],
      "source": [
        "import numpy as np\n",
        "import pandas as pd\n",
        "import seaborn as sns\n",
        "import matplotlib.pyplot as plt\n",
        "import graphviz\n",
        "\n",
        "from sklearn.datasets import load_iris\n",
        "from sklearn.model_selection import train_test_split\n",
        "from sklearn.tree import DecisionTreeClassifier\n",
        "from sklearn.tree import export_graphviz\n",
        "from sklearn.preprocessing import StandardScaler\n",
        "from sklearn.svm import SVC\n",
        "from sklearn.linear_model import LogisticRegression\n",
        "\n",
        "\n",
        "%matplotlib inline\n"
      ]
    },
    {
      "cell_type": "markdown",
      "id": "68162a4f",
      "metadata": {
        "id": "68162a4f"
      },
      "source": [
        "\n",
        "### Type of Features\n",
        "\n",
        "|  columns  |  JP name |\n",
        "| ---- | ---- |\n",
        "|  petal length (cm)  |  花びらの長さ  |\n",
        "|  petal width (cm) | 花びらの幅  |\n",
        "|  sepal length (cm)  |  がく片の長さ  |\n",
        "|  sepal width (cm)  |  がく片の幅  |\n",
        "\n",
        "### Type of targets（Iris）\n",
        "- 0：setosa\n",
        "- 1：versicolor\n",
        "- 2：virginica"
      ]
    },
    {
      "cell_type": "markdown",
      "source": [
        "## **(2) Download dataset, create dataframe, split data**\n",
        "\n"
      ],
      "metadata": {
        "id": "MwXcSue0YyPs"
      },
      "id": "MwXcSue0YyPs"
    },
    {
      "cell_type": "code",
      "execution_count": 57,
      "id": "43f40286",
      "metadata": {
        "colab": {
          "base_uri": "https://localhost:8080/",
          "height": 276
        },
        "id": "43f40286",
        "outputId": "622b731b-255a-4d25-cf8b-da494ba7d2ea"
      },
      "outputs": [
        {
          "output_type": "display_data",
          "data": {
            "text/plain": [
              "   sepal length (cm)  sepal width (cm)  petal length (cm)  petal width (cm)  \\\n",
              "0                5.1               3.5                1.4               0.2   \n",
              "1                4.9               3.0                1.4               0.2   \n",
              "2                4.7               3.2                1.3               0.2   \n",
              "3                4.6               3.1                1.5               0.2   \n",
              "4                5.0               3.6                1.4               0.2   \n",
              "\n",
              "   Target  \n",
              "0       0  \n",
              "1       0  \n",
              "2       0  \n",
              "3       0  \n",
              "4       0  "
            ],
            "text/html": [
              "\n",
              "\n",
              "  <div id=\"df-2c0c4c9c-f1a2-4001-8395-a9c8a6199742\">\n",
              "    <div class=\"colab-df-container\">\n",
              "      <div>\n",
              "<style scoped>\n",
              "    .dataframe tbody tr th:only-of-type {\n",
              "        vertical-align: middle;\n",
              "    }\n",
              "\n",
              "    .dataframe tbody tr th {\n",
              "        vertical-align: top;\n",
              "    }\n",
              "\n",
              "    .dataframe thead th {\n",
              "        text-align: right;\n",
              "    }\n",
              "</style>\n",
              "<table border=\"1\" class=\"dataframe\">\n",
              "  <thead>\n",
              "    <tr style=\"text-align: right;\">\n",
              "      <th></th>\n",
              "      <th>sepal length (cm)</th>\n",
              "      <th>sepal width (cm)</th>\n",
              "      <th>petal length (cm)</th>\n",
              "      <th>petal width (cm)</th>\n",
              "      <th>Target</th>\n",
              "    </tr>\n",
              "  </thead>\n",
              "  <tbody>\n",
              "    <tr>\n",
              "      <th>0</th>\n",
              "      <td>5.1</td>\n",
              "      <td>3.5</td>\n",
              "      <td>1.4</td>\n",
              "      <td>0.2</td>\n",
              "      <td>0</td>\n",
              "    </tr>\n",
              "    <tr>\n",
              "      <th>1</th>\n",
              "      <td>4.9</td>\n",
              "      <td>3.0</td>\n",
              "      <td>1.4</td>\n",
              "      <td>0.2</td>\n",
              "      <td>0</td>\n",
              "    </tr>\n",
              "    <tr>\n",
              "      <th>2</th>\n",
              "      <td>4.7</td>\n",
              "      <td>3.2</td>\n",
              "      <td>1.3</td>\n",
              "      <td>0.2</td>\n",
              "      <td>0</td>\n",
              "    </tr>\n",
              "    <tr>\n",
              "      <th>3</th>\n",
              "      <td>4.6</td>\n",
              "      <td>3.1</td>\n",
              "      <td>1.5</td>\n",
              "      <td>0.2</td>\n",
              "      <td>0</td>\n",
              "    </tr>\n",
              "    <tr>\n",
              "      <th>4</th>\n",
              "      <td>5.0</td>\n",
              "      <td>3.6</td>\n",
              "      <td>1.4</td>\n",
              "      <td>0.2</td>\n",
              "      <td>0</td>\n",
              "    </tr>\n",
              "  </tbody>\n",
              "</table>\n",
              "</div>\n",
              "      <button class=\"colab-df-convert\" onclick=\"convertToInteractive('df-2c0c4c9c-f1a2-4001-8395-a9c8a6199742')\"\n",
              "              title=\"Convert this dataframe to an interactive table.\"\n",
              "              style=\"display:none;\">\n",
              "\n",
              "  <svg xmlns=\"http://www.w3.org/2000/svg\" height=\"24px\"viewBox=\"0 0 24 24\"\n",
              "       width=\"24px\">\n",
              "    <path d=\"M0 0h24v24H0V0z\" fill=\"none\"/>\n",
              "    <path d=\"M18.56 5.44l.94 2.06.94-2.06 2.06-.94-2.06-.94-.94-2.06-.94 2.06-2.06.94zm-11 1L8.5 8.5l.94-2.06 2.06-.94-2.06-.94L8.5 2.5l-.94 2.06-2.06.94zm10 10l.94 2.06.94-2.06 2.06-.94-2.06-.94-.94-2.06-.94 2.06-2.06.94z\"/><path d=\"M17.41 7.96l-1.37-1.37c-.4-.4-.92-.59-1.43-.59-.52 0-1.04.2-1.43.59L10.3 9.45l-7.72 7.72c-.78.78-.78 2.05 0 2.83L4 21.41c.39.39.9.59 1.41.59.51 0 1.02-.2 1.41-.59l7.78-7.78 2.81-2.81c.8-.78.8-2.07 0-2.86zM5.41 20L4 18.59l7.72-7.72 1.47 1.35L5.41 20z\"/>\n",
              "  </svg>\n",
              "      </button>\n",
              "\n",
              "\n",
              "\n",
              "    <div id=\"df-0207f52f-d37c-401f-92e5-7b7f59d6a814\">\n",
              "      <button class=\"colab-df-quickchart\" onclick=\"quickchart('df-0207f52f-d37c-401f-92e5-7b7f59d6a814')\"\n",
              "              title=\"Suggest charts.\"\n",
              "              style=\"display:none;\">\n",
              "\n",
              "<svg xmlns=\"http://www.w3.org/2000/svg\" height=\"24px\"viewBox=\"0 0 24 24\"\n",
              "     width=\"24px\">\n",
              "    <g>\n",
              "        <path d=\"M19 3H5c-1.1 0-2 .9-2 2v14c0 1.1.9 2 2 2h14c1.1 0 2-.9 2-2V5c0-1.1-.9-2-2-2zM9 17H7v-7h2v7zm4 0h-2V7h2v10zm4 0h-2v-4h2v4z\"/>\n",
              "    </g>\n",
              "</svg>\n",
              "      </button>\n",
              "    </div>\n",
              "\n",
              "<style>\n",
              "  .colab-df-quickchart {\n",
              "    background-color: #E8F0FE;\n",
              "    border: none;\n",
              "    border-radius: 50%;\n",
              "    cursor: pointer;\n",
              "    display: none;\n",
              "    fill: #1967D2;\n",
              "    height: 32px;\n",
              "    padding: 0 0 0 0;\n",
              "    width: 32px;\n",
              "  }\n",
              "\n",
              "  .colab-df-quickchart:hover {\n",
              "    background-color: #E2EBFA;\n",
              "    box-shadow: 0px 1px 2px rgba(60, 64, 67, 0.3), 0px 1px 3px 1px rgba(60, 64, 67, 0.15);\n",
              "    fill: #174EA6;\n",
              "  }\n",
              "\n",
              "  [theme=dark] .colab-df-quickchart {\n",
              "    background-color: #3B4455;\n",
              "    fill: #D2E3FC;\n",
              "  }\n",
              "\n",
              "  [theme=dark] .colab-df-quickchart:hover {\n",
              "    background-color: #434B5C;\n",
              "    box-shadow: 0px 1px 3px 1px rgba(0, 0, 0, 0.15);\n",
              "    filter: drop-shadow(0px 1px 2px rgba(0, 0, 0, 0.3));\n",
              "    fill: #FFFFFF;\n",
              "  }\n",
              "</style>\n",
              "\n",
              "    <script>\n",
              "      async function quickchart(key) {\n",
              "        const containerElement = document.querySelector('#' + key);\n",
              "        const charts = await google.colab.kernel.invokeFunction(\n",
              "            'suggestCharts', [key], {});\n",
              "      }\n",
              "    </script>\n",
              "\n",
              "      <script>\n",
              "\n",
              "function displayQuickchartButton(domScope) {\n",
              "  let quickchartButtonEl =\n",
              "    domScope.querySelector('#df-0207f52f-d37c-401f-92e5-7b7f59d6a814 button.colab-df-quickchart');\n",
              "  quickchartButtonEl.style.display =\n",
              "    google.colab.kernel.accessAllowed ? 'block' : 'none';\n",
              "}\n",
              "\n",
              "        displayQuickchartButton(document);\n",
              "      </script>\n",
              "      <style>\n",
              "    .colab-df-container {\n",
              "      display:flex;\n",
              "      flex-wrap:wrap;\n",
              "      gap: 12px;\n",
              "    }\n",
              "\n",
              "    .colab-df-convert {\n",
              "      background-color: #E8F0FE;\n",
              "      border: none;\n",
              "      border-radius: 50%;\n",
              "      cursor: pointer;\n",
              "      display: none;\n",
              "      fill: #1967D2;\n",
              "      height: 32px;\n",
              "      padding: 0 0 0 0;\n",
              "      width: 32px;\n",
              "    }\n",
              "\n",
              "    .colab-df-convert:hover {\n",
              "      background-color: #E2EBFA;\n",
              "      box-shadow: 0px 1px 2px rgba(60, 64, 67, 0.3), 0px 1px 3px 1px rgba(60, 64, 67, 0.15);\n",
              "      fill: #174EA6;\n",
              "    }\n",
              "\n",
              "    [theme=dark] .colab-df-convert {\n",
              "      background-color: #3B4455;\n",
              "      fill: #D2E3FC;\n",
              "    }\n",
              "\n",
              "    [theme=dark] .colab-df-convert:hover {\n",
              "      background-color: #434B5C;\n",
              "      box-shadow: 0px 1px 3px 1px rgba(0, 0, 0, 0.15);\n",
              "      filter: drop-shadow(0px 1px 2px rgba(0, 0, 0, 0.3));\n",
              "      fill: #FFFFFF;\n",
              "    }\n",
              "  </style>\n",
              "\n",
              "      <script>\n",
              "        const buttonEl =\n",
              "          document.querySelector('#df-2c0c4c9c-f1a2-4001-8395-a9c8a6199742 button.colab-df-convert');\n",
              "        buttonEl.style.display =\n",
              "          google.colab.kernel.accessAllowed ? 'block' : 'none';\n",
              "\n",
              "        async function convertToInteractive(key) {\n",
              "          const element = document.querySelector('#df-2c0c4c9c-f1a2-4001-8395-a9c8a6199742');\n",
              "          const dataTable =\n",
              "            await google.colab.kernel.invokeFunction('convertToInteractive',\n",
              "                                                     [key], {});\n",
              "          if (!dataTable) return;\n",
              "\n",
              "          const docLinkHtml = 'Like what you see? Visit the ' +\n",
              "            '<a target=\"_blank\" href=https://colab.research.google.com/notebooks/data_table.ipynb>data table notebook</a>'\n",
              "            + ' to learn more about interactive tables.';\n",
              "          element.innerHTML = '';\n",
              "          dataTable['output_type'] = 'display_data';\n",
              "          await google.colab.output.renderOutput(dataTable, element);\n",
              "          const docLink = document.createElement('div');\n",
              "          docLink.innerHTML = docLinkHtml;\n",
              "          element.appendChild(docLink);\n",
              "        }\n",
              "      </script>\n",
              "    </div>\n",
              "  </div>\n"
            ]
          },
          "metadata": {}
        },
        {
          "output_type": "stream",
          "name": "stdout",
          "text": [
            "<class 'sklearn.utils._bunch.Bunch'>\n",
            "Type of targets are:['setosa' 'versicolor' 'virginica']\n",
            "[0 1 2]\n",
            "(150, 4) (150,)\n"
          ]
        }
      ],
      "source": [
        "# Download dataset, create dataframe, split data\n",
        "dataset = load_iris()\n",
        "columns_name = dataset.feature_names\n",
        "x = dataset.data\n",
        "t = dataset.target\n",
        "df = pd.DataFrame(data=x, columns=columns_name)\n",
        "df['Target'] = t\n",
        "display(df.head(5))\n",
        "\n",
        "print(type(dataset))\n",
        "print(f\"Type of targets are:{dataset.target_names}\")\n",
        "print(np.unique(t))\n",
        "print(x.shape, t.shape)\n",
        "x_train, x_test, t_train, t_test = train_test_split(x, t, test_size=0.3, random_state=0)"
      ]
    },
    {
      "cell_type": "markdown",
      "source": [
        "## **(3) Prediction**\n"
      ],
      "metadata": {
        "id": "Kej_1k14Y5KW"
      },
      "id": "Kej_1k14Y5KW"
    },
    {
      "cell_type": "code",
      "execution_count": 58,
      "id": "22f7d797",
      "metadata": {
        "colab": {
          "base_uri": "https://localhost:8080/"
        },
        "id": "22f7d797",
        "outputId": "154a7b8b-eec9-46f4-a421-c137eb974896"
      },
      "outputs": [
        {
          "output_type": "stream",
          "name": "stdout",
          "text": [
            "train score :  1.0\n",
            "test score :  0.9777777777777777\n"
          ]
        }
      ],
      "source": [
        "dtree = DecisionTreeClassifier(random_state=0)\n",
        "dtree.fit(x_train, t_train)\n",
        "print('train score : ', dtree.score(x_train, t_train))\n",
        "print('test score : ', dtree.score(x_test, t_test)) # 1.0 (test_size=0.2)\n"
      ]
    },
    {
      "cell_type": "code",
      "execution_count": 59,
      "id": "af98f222",
      "metadata": {
        "colab": {
          "base_uri": "https://localhost:8080/"
        },
        "id": "af98f222",
        "outputId": "28d44eef-98b1-4c8c-a816-46dabcb93e47"
      },
      "outputs": [
        {
          "output_type": "stream",
          "name": "stdout",
          "text": [
            "[ True  True  True  True  True  True  True  True  True  True  True  True\n",
            "  True  True  True  True  True  True  True  True  True  True  True  True\n",
            "  True  True  True  True  True  True  True  True  True  True  True  True\n",
            "  True False  True  True  True  True  True  True  True]\n",
            "[2 1 0 2 0 2 0 1 1 1 2 1 1 1 1 0 1 1 0 0 2 1 0 0 2 0 0 1 1 0 2 1 0 2 2 1 0\n",
            " 2 1 1 2 0 2 0 0]\n",
            "[2 1 0 2 0 2 0 1 1 1 2 1 1 1 1 0 1 1 0 0 2 1 0 0 2 0 0 1 1 0 2 1 0 2 2 1 0\n",
            " 1 1 1 2 0 2 0 0]\n",
            "45\n"
          ]
        }
      ],
      "source": [
        "dtree.predict(x_test)\n",
        "print(dtree.predict(x_test)==t_test)\n",
        "print(dtree.predict(x_test))\n",
        "print(t_test)\n",
        "print(len(t_test))"
      ]
    },
    {
      "cell_type": "markdown",
      "source": [
        "## **(4) Visualization**"
      ],
      "metadata": {
        "id": "HuMHYUwuY95R"
      },
      "id": "HuMHYUwuY95R"
    },
    {
      "cell_type": "markdown",
      "source": [
        "Visualization reference：<https://scikit-learn.org/stable/modules/generated/sklearn.tree.export_graphviz.html>"
      ],
      "metadata": {
        "id": "xyGfqPCmYChS"
      },
      "id": "xyGfqPCmYChS"
    },
    {
      "cell_type": "code",
      "execution_count": 92,
      "id": "27a4e3ca",
      "metadata": {
        "colab": {
          "base_uri": "https://localhost:8080/",
          "height": 588
        },
        "id": "27a4e3ca",
        "outputId": "a2b509d0-e082-4ff6-e2f0-73e714df8188"
      },
      "outputs": [
        {
          "output_type": "execute_result",
          "data": {
            "image/svg+xml": "<?xml version=\"1.0\" encoding=\"UTF-8\" standalone=\"no\"?>\n<!DOCTYPE svg PUBLIC \"-//W3C//DTD SVG 1.1//EN\"\n \"http://www.w3.org/Graphics/SVG/1.1/DTD/svg11.dtd\">\n<!-- Generated by graphviz version 2.43.0 (0)\n -->\n<!-- Title: Tree Pages: 1 -->\n<svg width=\"930pt\" height=\"425pt\"\n viewBox=\"0.00 0.00 930.00 425.00\" xmlns=\"http://www.w3.org/2000/svg\" xmlns:xlink=\"http://www.w3.org/1999/xlink\">\n<g id=\"graph0\" class=\"graph\" transform=\"scale(1 1) rotate(0) translate(4 421)\">\n<title>Tree</title>\n<polygon fill=\"white\" stroke=\"transparent\" points=\"-4,4 -4,-421 926,-421 926,4 -4,4\"/>\n<!-- 0 -->\n<g id=\"node1\" class=\"node\">\n<title>0</title>\n<polygon fill=\"#f6f1fd\" stroke=\"black\" points=\"163,-311.5 0,-311.5 0,-213.5 163,-213.5 163,-311.5\"/>\n<text text-anchor=\"middle\" x=\"81.5\" y=\"-296.3\" font-family=\"Helvetica,sans-Serif\" font-size=\"14.00\">node #0</text>\n<text text-anchor=\"middle\" x=\"81.5\" y=\"-281.3\" font-family=\"Helvetica,sans-Serif\" font-size=\"14.00\">petal width (cm) &lt;= 0.75</text>\n<text text-anchor=\"middle\" x=\"81.5\" y=\"-266.3\" font-family=\"Helvetica,sans-Serif\" font-size=\"14.00\">gini = 0.664</text>\n<text text-anchor=\"middle\" x=\"81.5\" y=\"-251.3\" font-family=\"Helvetica,sans-Serif\" font-size=\"14.00\">samples = 105</text>\n<text text-anchor=\"middle\" x=\"81.5\" y=\"-236.3\" font-family=\"Helvetica,sans-Serif\" font-size=\"14.00\">value = [34, 32, 39]</text>\n<text text-anchor=\"middle\" x=\"81.5\" y=\"-221.3\" font-family=\"Helvetica,sans-Serif\" font-size=\"14.00\">class = virginica</text>\n</g>\n<!-- 1 -->\n<g id=\"node2\" class=\"node\">\n<title>1</title>\n<polygon fill=\"#e58139\" stroke=\"black\" points=\"341.5,-359 224.5,-359 224.5,-276 341.5,-276 341.5,-359\"/>\n<text text-anchor=\"middle\" x=\"283\" y=\"-343.8\" font-family=\"Helvetica,sans-Serif\" font-size=\"14.00\">node #1</text>\n<text text-anchor=\"middle\" x=\"283\" y=\"-328.8\" font-family=\"Helvetica,sans-Serif\" font-size=\"14.00\">gini = 0.0</text>\n<text text-anchor=\"middle\" x=\"283\" y=\"-313.8\" font-family=\"Helvetica,sans-Serif\" font-size=\"14.00\">samples = 34</text>\n<text text-anchor=\"middle\" x=\"283\" y=\"-298.8\" font-family=\"Helvetica,sans-Serif\" font-size=\"14.00\">value = [34, 0, 0]</text>\n<text text-anchor=\"middle\" x=\"283\" y=\"-283.8\" font-family=\"Helvetica,sans-Serif\" font-size=\"14.00\">class = setosa</text>\n</g>\n<!-- 0&#45;&gt;1 -->\n<g id=\"edge1\" class=\"edge\">\n<title>0&#45;&gt;1</title>\n<path fill=\"none\" stroke=\"black\" d=\"M163.07,-284.71C180.08,-289.4 197.87,-294.31 214.35,-298.85\"/>\n<polygon fill=\"black\" stroke=\"black\" points=\"213.86,-302.34 224.43,-301.63 215.72,-295.6 213.86,-302.34\"/>\n<text text-anchor=\"middle\" x=\"202.69\" y=\"-310.27\" font-family=\"Helvetica,sans-Serif\" font-size=\"14.00\">True</text>\n</g>\n<!-- 2 -->\n<g id=\"node3\" class=\"node\">\n<title>2</title>\n<polygon fill=\"#e8dbfa\" stroke=\"black\" points=\"367,-257.5 199,-257.5 199,-159.5 367,-159.5 367,-257.5\"/>\n<text text-anchor=\"middle\" x=\"283\" y=\"-242.3\" font-family=\"Helvetica,sans-Serif\" font-size=\"14.00\">node #2</text>\n<text text-anchor=\"middle\" x=\"283\" y=\"-227.3\" font-family=\"Helvetica,sans-Serif\" font-size=\"14.00\">petal length (cm) &lt;= 4.95</text>\n<text text-anchor=\"middle\" x=\"283\" y=\"-212.3\" font-family=\"Helvetica,sans-Serif\" font-size=\"14.00\">gini = 0.495</text>\n<text text-anchor=\"middle\" x=\"283\" y=\"-197.3\" font-family=\"Helvetica,sans-Serif\" font-size=\"14.00\">samples = 71</text>\n<text text-anchor=\"middle\" x=\"283\" y=\"-182.3\" font-family=\"Helvetica,sans-Serif\" font-size=\"14.00\">value = [0, 32, 39]</text>\n<text text-anchor=\"middle\" x=\"283\" y=\"-167.3\" font-family=\"Helvetica,sans-Serif\" font-size=\"14.00\">class = virginica</text>\n</g>\n<!-- 0&#45;&gt;2 -->\n<g id=\"edge2\" class=\"edge\">\n<title>0&#45;&gt;2</title>\n<path fill=\"none\" stroke=\"black\" d=\"M163.07,-240.69C171.63,-238.37 180.39,-236 189.08,-233.65\"/>\n<polygon fill=\"black\" stroke=\"black\" points=\"190.12,-237 198.85,-231.01 188.29,-230.24 190.12,-237\"/>\n<text text-anchor=\"middle\" x=\"177.17\" y=\"-214.86\" font-family=\"Helvetica,sans-Serif\" font-size=\"14.00\">False</text>\n</g>\n<!-- 3 -->\n<g id=\"node4\" class=\"node\">\n<title>3</title>\n<polygon fill=\"#4ce88d\" stroke=\"black\" points=\"566,-315.5 403,-315.5 403,-217.5 566,-217.5 566,-315.5\"/>\n<text text-anchor=\"middle\" x=\"484.5\" y=\"-300.3\" font-family=\"Helvetica,sans-Serif\" font-size=\"14.00\">node #3</text>\n<text text-anchor=\"middle\" x=\"484.5\" y=\"-285.3\" font-family=\"Helvetica,sans-Serif\" font-size=\"14.00\">petal width (cm) &lt;= 1.65</text>\n<text text-anchor=\"middle\" x=\"484.5\" y=\"-270.3\" font-family=\"Helvetica,sans-Serif\" font-size=\"14.00\">gini = 0.161</text>\n<text text-anchor=\"middle\" x=\"484.5\" y=\"-255.3\" font-family=\"Helvetica,sans-Serif\" font-size=\"14.00\">samples = 34</text>\n<text text-anchor=\"middle\" x=\"484.5\" y=\"-240.3\" font-family=\"Helvetica,sans-Serif\" font-size=\"14.00\">value = [0, 31, 3]</text>\n<text text-anchor=\"middle\" x=\"484.5\" y=\"-225.3\" font-family=\"Helvetica,sans-Serif\" font-size=\"14.00\">class = versicolor</text>\n</g>\n<!-- 2&#45;&gt;3 -->\n<g id=\"edge3\" class=\"edge\">\n<title>2&#45;&gt;3</title>\n<path fill=\"none\" stroke=\"black\" d=\"M367.16,-232.68C375.71,-235.16 384.42,-237.69 393.04,-240.2\"/>\n<polygon fill=\"black\" stroke=\"black\" points=\"392.13,-243.58 402.71,-243.01 394.09,-236.86 392.13,-243.58\"/>\n</g>\n<!-- 8 -->\n<g id=\"node9\" class=\"node\">\n<title>8</title>\n<polygon fill=\"#843ee6\" stroke=\"black\" points=\"566,-199.5 403,-199.5 403,-101.5 566,-101.5 566,-199.5\"/>\n<text text-anchor=\"middle\" x=\"484.5\" y=\"-184.3\" font-family=\"Helvetica,sans-Serif\" font-size=\"14.00\">node #8</text>\n<text text-anchor=\"middle\" x=\"484.5\" y=\"-169.3\" font-family=\"Helvetica,sans-Serif\" font-size=\"14.00\">petal width (cm) &lt;= 1.75</text>\n<text text-anchor=\"middle\" x=\"484.5\" y=\"-154.3\" font-family=\"Helvetica,sans-Serif\" font-size=\"14.00\">gini = 0.053</text>\n<text text-anchor=\"middle\" x=\"484.5\" y=\"-139.3\" font-family=\"Helvetica,sans-Serif\" font-size=\"14.00\">samples = 37</text>\n<text text-anchor=\"middle\" x=\"484.5\" y=\"-124.3\" font-family=\"Helvetica,sans-Serif\" font-size=\"14.00\">value = [0, 1, 36]</text>\n<text text-anchor=\"middle\" x=\"484.5\" y=\"-109.3\" font-family=\"Helvetica,sans-Serif\" font-size=\"14.00\">class = virginica</text>\n</g>\n<!-- 2&#45;&gt;8 -->\n<g id=\"edge8\" class=\"edge\">\n<title>2&#45;&gt;8</title>\n<path fill=\"none\" stroke=\"black\" d=\"M367.16,-184.32C375.71,-181.84 384.42,-179.31 393.04,-176.8\"/>\n<polygon fill=\"black\" stroke=\"black\" points=\"394.09,-180.14 402.71,-173.99 392.13,-173.42 394.09,-180.14\"/>\n</g>\n<!-- 4 -->\n<g id=\"node5\" class=\"node\">\n<title>4</title>\n<polygon fill=\"#39e581\" stroke=\"black\" points=\"744,-417 623,-417 623,-334 744,-334 744,-417\"/>\n<text text-anchor=\"middle\" x=\"683.5\" y=\"-401.8\" font-family=\"Helvetica,sans-Serif\" font-size=\"14.00\">node #4</text>\n<text text-anchor=\"middle\" x=\"683.5\" y=\"-386.8\" font-family=\"Helvetica,sans-Serif\" font-size=\"14.00\">gini = 0.0</text>\n<text text-anchor=\"middle\" x=\"683.5\" y=\"-371.8\" font-family=\"Helvetica,sans-Serif\" font-size=\"14.00\">samples = 30</text>\n<text text-anchor=\"middle\" x=\"683.5\" y=\"-356.8\" font-family=\"Helvetica,sans-Serif\" font-size=\"14.00\">value = [0, 30, 0]</text>\n<text text-anchor=\"middle\" x=\"683.5\" y=\"-341.8\" font-family=\"Helvetica,sans-Serif\" font-size=\"14.00\">class = versicolor</text>\n</g>\n<!-- 3&#45;&gt;4 -->\n<g id=\"edge4\" class=\"edge\">\n<title>3&#45;&gt;4</title>\n<path fill=\"none\" stroke=\"black\" d=\"M566.2,-311.15C582.01,-319.9 598.45,-329 613.82,-337.5\"/>\n<polygon fill=\"black\" stroke=\"black\" points=\"612.3,-340.66 622.74,-342.43 615.68,-334.53 612.3,-340.66\"/>\n</g>\n<!-- 5 -->\n<g id=\"node6\" class=\"node\">\n<title>5</title>\n<polygon fill=\"#ab7bee\" stroke=\"black\" points=\"762.5,-315.5 604.5,-315.5 604.5,-217.5 762.5,-217.5 762.5,-315.5\"/>\n<text text-anchor=\"middle\" x=\"683.5\" y=\"-300.3\" font-family=\"Helvetica,sans-Serif\" font-size=\"14.00\">node #5</text>\n<text text-anchor=\"middle\" x=\"683.5\" y=\"-285.3\" font-family=\"Helvetica,sans-Serif\" font-size=\"14.00\">sepal width (cm) &lt;= 3.1</text>\n<text text-anchor=\"middle\" x=\"683.5\" y=\"-270.3\" font-family=\"Helvetica,sans-Serif\" font-size=\"14.00\">gini = 0.375</text>\n<text text-anchor=\"middle\" x=\"683.5\" y=\"-255.3\" font-family=\"Helvetica,sans-Serif\" font-size=\"14.00\">samples = 4</text>\n<text text-anchor=\"middle\" x=\"683.5\" y=\"-240.3\" font-family=\"Helvetica,sans-Serif\" font-size=\"14.00\">value = [0, 1, 3]</text>\n<text text-anchor=\"middle\" x=\"683.5\" y=\"-225.3\" font-family=\"Helvetica,sans-Serif\" font-size=\"14.00\">class = virginica</text>\n</g>\n<!-- 3&#45;&gt;5 -->\n<g id=\"edge5\" class=\"edge\">\n<title>3&#45;&gt;5</title>\n<path fill=\"none\" stroke=\"black\" d=\"M566.2,-266.5C575.48,-266.5 584.99,-266.5 594.36,-266.5\"/>\n<polygon fill=\"black\" stroke=\"black\" points=\"594.47,-270 604.47,-266.5 594.47,-263 594.47,-270\"/>\n</g>\n<!-- 6 -->\n<g id=\"node7\" class=\"node\">\n<title>6</title>\n<polygon fill=\"#8139e5\" stroke=\"black\" points=\"918,-405 805,-405 805,-322 918,-322 918,-405\"/>\n<text text-anchor=\"middle\" x=\"861.5\" y=\"-389.8\" font-family=\"Helvetica,sans-Serif\" font-size=\"14.00\">node #6</text>\n<text text-anchor=\"middle\" x=\"861.5\" y=\"-374.8\" font-family=\"Helvetica,sans-Serif\" font-size=\"14.00\">gini = 0.0</text>\n<text text-anchor=\"middle\" x=\"861.5\" y=\"-359.8\" font-family=\"Helvetica,sans-Serif\" font-size=\"14.00\">samples = 3</text>\n<text text-anchor=\"middle\" x=\"861.5\" y=\"-344.8\" font-family=\"Helvetica,sans-Serif\" font-size=\"14.00\">value = [0, 0, 3]</text>\n<text text-anchor=\"middle\" x=\"861.5\" y=\"-329.8\" font-family=\"Helvetica,sans-Serif\" font-size=\"14.00\">class = virginica</text>\n</g>\n<!-- 5&#45;&gt;6 -->\n<g id=\"edge6\" class=\"edge\">\n<title>5&#45;&gt;6</title>\n<path fill=\"none\" stroke=\"black\" d=\"M762.72,-309.61C773.84,-315.74 785.17,-321.98 795.98,-327.94\"/>\n<polygon fill=\"black\" stroke=\"black\" points=\"794.49,-331.11 804.93,-332.88 797.87,-324.98 794.49,-331.11\"/>\n</g>\n<!-- 7 -->\n<g id=\"node8\" class=\"node\">\n<title>7</title>\n<polygon fill=\"#39e581\" stroke=\"black\" points=\"922,-304 801,-304 801,-221 922,-221 922,-304\"/>\n<text text-anchor=\"middle\" x=\"861.5\" y=\"-288.8\" font-family=\"Helvetica,sans-Serif\" font-size=\"14.00\">node #7</text>\n<text text-anchor=\"middle\" x=\"861.5\" y=\"-273.8\" font-family=\"Helvetica,sans-Serif\" font-size=\"14.00\">gini = 0.0</text>\n<text text-anchor=\"middle\" x=\"861.5\" y=\"-258.8\" font-family=\"Helvetica,sans-Serif\" font-size=\"14.00\">samples = 1</text>\n<text text-anchor=\"middle\" x=\"861.5\" y=\"-243.8\" font-family=\"Helvetica,sans-Serif\" font-size=\"14.00\">value = [0, 1, 0]</text>\n<text text-anchor=\"middle\" x=\"861.5\" y=\"-228.8\" font-family=\"Helvetica,sans-Serif\" font-size=\"14.00\">class = versicolor</text>\n</g>\n<!-- 5&#45;&gt;7 -->\n<g id=\"edge7\" class=\"edge\">\n<title>5&#45;&gt;7</title>\n<path fill=\"none\" stroke=\"black\" d=\"M762.72,-264.72C771.99,-264.51 781.41,-264.3 790.56,-264.09\"/>\n<polygon fill=\"black\" stroke=\"black\" points=\"790.83,-267.58 800.75,-263.86 790.67,-260.59 790.83,-267.58\"/>\n</g>\n<!-- 9 -->\n<g id=\"node10\" class=\"node\">\n<title>9</title>\n<polygon fill=\"#ab7bee\" stroke=\"black\" points=\"765,-199.5 602,-199.5 602,-101.5 765,-101.5 765,-199.5\"/>\n<text text-anchor=\"middle\" x=\"683.5\" y=\"-184.3\" font-family=\"Helvetica,sans-Serif\" font-size=\"14.00\">node #9</text>\n<text text-anchor=\"middle\" x=\"683.5\" y=\"-169.3\" font-family=\"Helvetica,sans-Serif\" font-size=\"14.00\">petal width (cm) &lt;= 1.65</text>\n<text text-anchor=\"middle\" x=\"683.5\" y=\"-154.3\" font-family=\"Helvetica,sans-Serif\" font-size=\"14.00\">gini = 0.375</text>\n<text text-anchor=\"middle\" x=\"683.5\" y=\"-139.3\" font-family=\"Helvetica,sans-Serif\" font-size=\"14.00\">samples = 4</text>\n<text text-anchor=\"middle\" x=\"683.5\" y=\"-124.3\" font-family=\"Helvetica,sans-Serif\" font-size=\"14.00\">value = [0, 1, 3]</text>\n<text text-anchor=\"middle\" x=\"683.5\" y=\"-109.3\" font-family=\"Helvetica,sans-Serif\" font-size=\"14.00\">class = virginica</text>\n</g>\n<!-- 8&#45;&gt;9 -->\n<g id=\"edge9\" class=\"edge\">\n<title>8&#45;&gt;9</title>\n<path fill=\"none\" stroke=\"black\" d=\"M566.2,-150.5C574.67,-150.5 583.33,-150.5 591.91,-150.5\"/>\n<polygon fill=\"black\" stroke=\"black\" points=\"591.93,-154 601.93,-150.5 591.93,-147 591.93,-154\"/>\n</g>\n<!-- 12 -->\n<g id=\"node13\" class=\"node\">\n<title>12</title>\n<polygon fill=\"#8139e5\" stroke=\"black\" points=\"742,-83 625,-83 625,0 742,0 742,-83\"/>\n<text text-anchor=\"middle\" x=\"683.5\" y=\"-67.8\" font-family=\"Helvetica,sans-Serif\" font-size=\"14.00\">node #12</text>\n<text text-anchor=\"middle\" x=\"683.5\" y=\"-52.8\" font-family=\"Helvetica,sans-Serif\" font-size=\"14.00\">gini = 0.0</text>\n<text text-anchor=\"middle\" x=\"683.5\" y=\"-37.8\" font-family=\"Helvetica,sans-Serif\" font-size=\"14.00\">samples = 33</text>\n<text text-anchor=\"middle\" x=\"683.5\" y=\"-22.8\" font-family=\"Helvetica,sans-Serif\" font-size=\"14.00\">value = [0, 0, 33]</text>\n<text text-anchor=\"middle\" x=\"683.5\" y=\"-7.8\" font-family=\"Helvetica,sans-Serif\" font-size=\"14.00\">class = virginica</text>\n</g>\n<!-- 8&#45;&gt;12 -->\n<g id=\"edge12\" class=\"edge\">\n<title>8&#45;&gt;12</title>\n<path fill=\"none\" stroke=\"black\" d=\"M566.2,-105.85C582.78,-96.67 600.07,-87.11 616.08,-78.25\"/>\n<polygon fill=\"black\" stroke=\"black\" points=\"617.78,-81.31 624.83,-73.41 614.39,-75.19 617.78,-81.31\"/>\n</g>\n<!-- 10 -->\n<g id=\"node11\" class=\"node\">\n<title>10</title>\n<polygon fill=\"#8139e5\" stroke=\"black\" points=\"918,-196 805,-196 805,-113 918,-113 918,-196\"/>\n<text text-anchor=\"middle\" x=\"861.5\" y=\"-180.8\" font-family=\"Helvetica,sans-Serif\" font-size=\"14.00\">node #10</text>\n<text text-anchor=\"middle\" x=\"861.5\" y=\"-165.8\" font-family=\"Helvetica,sans-Serif\" font-size=\"14.00\">gini = 0.0</text>\n<text text-anchor=\"middle\" x=\"861.5\" y=\"-150.8\" font-family=\"Helvetica,sans-Serif\" font-size=\"14.00\">samples = 3</text>\n<text text-anchor=\"middle\" x=\"861.5\" y=\"-135.8\" font-family=\"Helvetica,sans-Serif\" font-size=\"14.00\">value = [0, 0, 3]</text>\n<text text-anchor=\"middle\" x=\"861.5\" y=\"-120.8\" font-family=\"Helvetica,sans-Serif\" font-size=\"14.00\">class = virginica</text>\n</g>\n<!-- 9&#45;&gt;10 -->\n<g id=\"edge10\" class=\"edge\">\n<title>9&#45;&gt;10</title>\n<path fill=\"none\" stroke=\"black\" d=\"M765.03,-152.33C774.94,-152.56 784.97,-152.78 794.62,-153\"/>\n<polygon fill=\"black\" stroke=\"black\" points=\"794.84,-156.51 804.92,-153.24 795,-149.51 794.84,-156.51\"/>\n</g>\n<!-- 11 -->\n<g id=\"node12\" class=\"node\">\n<title>11</title>\n<polygon fill=\"#39e581\" stroke=\"black\" points=\"922,-95 801,-95 801,-12 922,-12 922,-95\"/>\n<text text-anchor=\"middle\" x=\"861.5\" y=\"-79.8\" font-family=\"Helvetica,sans-Serif\" font-size=\"14.00\">node #11</text>\n<text text-anchor=\"middle\" x=\"861.5\" y=\"-64.8\" font-family=\"Helvetica,sans-Serif\" font-size=\"14.00\">gini = 0.0</text>\n<text text-anchor=\"middle\" x=\"861.5\" y=\"-49.8\" font-family=\"Helvetica,sans-Serif\" font-size=\"14.00\">samples = 1</text>\n<text text-anchor=\"middle\" x=\"861.5\" y=\"-34.8\" font-family=\"Helvetica,sans-Serif\" font-size=\"14.00\">value = [0, 1, 0]</text>\n<text text-anchor=\"middle\" x=\"861.5\" y=\"-19.8\" font-family=\"Helvetica,sans-Serif\" font-size=\"14.00\">class = versicolor</text>\n</g>\n<!-- 9&#45;&gt;11 -->\n<g id=\"edge11\" class=\"edge\">\n<title>9&#45;&gt;11</title>\n<path fill=\"none\" stroke=\"black\" d=\"M765.03,-106.12C773.97,-101.19 783,-96.21 791.77,-91.38\"/>\n<polygon fill=\"black\" stroke=\"black\" points=\"793.73,-94.3 800.8,-86.4 790.35,-88.16 793.73,-94.3\"/>\n</g>\n</g>\n</svg>\n",
            "text/plain": [
              "<graphviz.sources.Source at 0x7f5bc484c9a0>"
            ]
          },
          "metadata": {},
          "execution_count": 92
        }
      ],
      "source": [
        "dot_data = export_graphviz(dtree,\\\n",
        "    filled=True,rounded=False,node_ids=True,rotate=True,feature_names=dataset.feature_names,class_names=dataset.target_names)\n",
        "\n",
        "\n",
        "graph_tree = graphviz.Source(dot_data)\n",
        "graph_tree\n"
      ]
    },
    {
      "cell_type": "code",
      "source": [
        "feature_importance = dtree.feature_importances_\n",
        "print(feature_importance)\n",
        "\n",
        "y = columns_name\n",
        "width = feature_importance\n",
        "\n",
        "plt.barh(y=y, width=width);"
      ],
      "metadata": {
        "colab": {
          "base_uri": "https://localhost:8080/",
          "height": 447
        },
        "id": "iXjAcGxtZGIZ",
        "outputId": "cf997906-5679-4891-816f-e4ab63b446df"
      },
      "id": "iXjAcGxtZGIZ",
      "execution_count": 61,
      "outputs": [
        {
          "output_type": "stream",
          "name": "stdout",
          "text": [
            "[0.         0.02150464 0.39766951 0.58082584]\n"
          ]
        },
        {
          "output_type": "display_data",
          "data": {
            "text/plain": [
              "<Figure size 640x480 with 1 Axes>"
            ],
            "image/png": "[encoded data removed]"
          },
          "metadata": {}
        }
      ]
    },
    {
      "cell_type": "markdown",
      "source": [
        "## **(5) Implementation of SVC**\n",
        "- In general, SVM needs **data standardization**"
      ],
      "metadata": {
        "id": "vbGZdPGjYB3F"
      },
      "id": "vbGZdPGjYB3F"
    },
    {
      "cell_type": "code",
      "source": [
        "svc = SVC()\n",
        "svc.fit(x_train, t_train)\n",
        "print('train score : ', svc.score(x_train, t_train))\n",
        "print('test score : ', svc.score(x_test, t_test))"
      ],
      "metadata": {
        "colab": {
          "base_uri": "https://localhost:8080/"
        },
        "id": "q3BB5IgFawcX",
        "outputId": "a7f4ea98-724f-4acc-d579-88305d05804b"
      },
      "id": "q3BB5IgFawcX",
      "execution_count": 62,
      "outputs": [
        {
          "output_type": "stream",
          "name": "stdout",
          "text": [
            "train score :  0.9714285714285714\n",
            "test score :  0.9777777777777777\n"
          ]
        }
      ]
    },
    {
      "cell_type": "markdown",
      "source": [
        "reference:<https://scikit-learn.org/stable/modules/generated/sklearn.preprocessing.StandardScaler.html>"
      ],
      "metadata": {
        "id": "zuErZpmlcrsC"
      },
      "id": "zuErZpmlcrsC"
    },
    {
      "cell_type": "code",
      "source": [
        "std_scaler = StandardScaler()\n",
        "std_scaler.fit(x_train)\n",
        "x_train_std = std_scaler.transform(x_train)\n",
        "x_test_std = std_scaler.transform(x_test)\n",
        "print(std_scaler.mean_)\n",
        "print(std_scaler.var_)\n",
        "\n",
        "print(round(x_train_std.mean()))\n",
        "print(round(x_train_std.std()))"
      ],
      "metadata": {
        "colab": {
          "base_uri": "https://localhost:8080/"
        },
        "id": "JS-kqf3GawgJ",
        "outputId": "3b4c2d57-e1de-4f3a-80d3-650be1401489"
      },
      "id": "JS-kqf3GawgJ",
      "execution_count": 63,
      "outputs": [
        {
          "output_type": "stream",
          "name": "stdout",
          "text": [
            "[5.89333333 3.0447619  3.82857143 1.22761905]\n",
            "[0.7615746  0.19294875 3.22546939 0.602761  ]\n",
            "0\n",
            "1\n"
          ]
        }
      ]
    },
    {
      "cell_type": "code",
      "source": [
        "svc_std = SVC()\n",
        "svc_std.fit(x_train_std, t_train)\n",
        "\n",
        "print('train score scaling : ', svc_std.score(x_train_std, t_train))\n",
        "print('test score scaling : ', svc_std.score(x_test_std, t_test))"
      ],
      "metadata": {
        "colab": {
          "base_uri": "https://localhost:8080/"
        },
        "id": "xfohnPB4awiH",
        "outputId": "651fe056-cc2e-4e70-9856-827a8921ad28"
      },
      "id": "xfohnPB4awiH",
      "execution_count": 64,
      "outputs": [
        {
          "output_type": "stream",
          "name": "stdout",
          "text": [
            "train score scaling :  0.9714285714285714\n",
            "test score scaling :  0.9777777777777777\n"
          ]
        }
      ]
    },
    {
      "cell_type": "markdown",
      "source": [
        "## **(6) Implementation of Logistic Regression**\n",
        "- L2 regularization(C is the parameter)"
      ],
      "metadata": {
        "id": "fzooqvYxdPty"
      },
      "id": "fzooqvYxdPty"
    },
    {
      "cell_type": "code",
      "source": [
        "log_reg = LogisticRegression(C=1.0)\n",
        "log_reg.fit(x_train, t_train)\n",
        "print('train score : ', log_reg.score(x_train, t_train))\n",
        "print('test score : ', log_reg.score(x_test, t_test)) # over-fitting (test_size=0.2)"
      ],
      "metadata": {
        "colab": {
          "base_uri": "https://localhost:8080/"
        },
        "id": "JC_U5NOmawjx",
        "outputId": "c2e3958d-3433-4608-d701-7a8d08e2f6bc"
      },
      "id": "JC_U5NOmawjx",
      "execution_count": 70,
      "outputs": [
        {
          "output_type": "stream",
          "name": "stdout",
          "text": [
            "train score :  0.9809523809523809\n",
            "test score :  0.9777777777777777\n"
          ]
        }
      ]
    },
    {
      "cell_type": "code",
      "source": [
        "print(log_reg.coef_.shape)\n",
        "print(log_reg.coef_)\n",
        "print(log_reg.intercept_)\n"
      ],
      "metadata": {
        "colab": {
          "base_uri": "https://localhost:8080/"
        },
        "id": "opyGC7Roawl5",
        "outputId": "39ba5744-116a-433a-a045-ce4fd37339fe"
      },
      "id": "opyGC7Roawl5",
      "execution_count": 71,
      "outputs": [
        {
          "output_type": "stream",
          "name": "stdout",
          "text": [
            "(3, 4)\n",
            "[[-0.39783961  0.83360655 -2.28957943 -0.97852276]\n",
            " [ 0.54462603 -0.29016523 -0.23266966 -0.65809245]\n",
            " [-0.14678642 -0.54344132  2.52224909  1.63661521]]\n",
            "[  9.00084685   1.54172321 -10.54257007]\n"
          ]
        }
      ]
    },
    {
      "cell_type": "code",
      "source": [
        "# Feature importance\n",
        "fig = plt.figure(figsize=(7, 15))\n",
        "\n",
        "for i in range(len(log_reg.coef_)):\n",
        "    ax = fig.add_subplot(3, 1, i+1)\n",
        "    ax.barh(y=dataset.feature_names, width=log_reg.coef_[i])\n",
        "    ax.set_title(f\"Class '{dataset.target_names[i]}' \")"
      ],
      "metadata": {
        "colab": {
          "base_uri": "https://localhost:8080/",
          "height": 1000
        },
        "id": "dKk5El3m5W5V",
        "outputId": "25b132b8-9f24-4347-d515-9f2893ddc477"
      },
      "id": "dKk5El3m5W5V",
      "execution_count": 80,
      "outputs": [
        {
          "output_type": "display_data",
          "data": {
            "text/plain": [
              "<Figure size 700x1500 with 3 Axes>"
            ],
            "image/png": "[encoded data removed]"
          },
          "metadata": {}
        }
      ]
    },
    {
      "cell_type": "code",
      "source": [
        "# Odds ratio\n",
        "fig = plt.figure(figsize=(7, 15))\n",
        "\n",
        "for i in range(len(log_reg.coef_)):\n",
        "    ax = fig.add_subplot(3, 1, i+1)\n",
        "    odds_ratio = np.exp(log_reg.coef_[i])\n",
        "    ax.barh(y=dataset.feature_names, width=odds_ratio)\n",
        "    ax.set_title(f\"Class '{dataset.target_names[i]}' \")"
      ],
      "metadata": {
        "colab": {
          "base_uri": "https://localhost:8080/",
          "height": 1000
        },
        "id": "fkLopYqk62Uf",
        "outputId": "9dcf0558-ec9f-4488-e631-d79a4a1cb3a8"
      },
      "id": "fkLopYqk62Uf",
      "execution_count": 82,
      "outputs": [
        {
          "output_type": "display_data",
          "data": {
            "text/plain": [
              "<Figure size 700x1500 with 3 Axes>"
            ],
            "image/png": "[encoded data removed]"
          },
          "metadata": {}
        }
      ]
    },
    {
      "cell_type": "markdown",
      "id": "62f3a124",
      "metadata": {
        "id": "62f3a124"
      },
      "source": []
    },
    {
      "cell_type": "code",
      "source": [
        "print('Feature names',dataset.feature_names)\n",
        "print('Weights(Coefficients):',log_reg.coef_[0])\n",
        "print('Odds Ratio:',  np.exp(log_reg.coef_[0]))\n"
      ],
      "metadata": {
        "colab": {
          "base_uri": "https://localhost:8080/"
        },
        "id": "FfK9HucU7Vjf",
        "outputId": "9dc5c8e8-93a1-4536-fe61-cf92cab280b9"
      },
      "id": "FfK9HucU7Vjf",
      "execution_count": 85,
      "outputs": [
        {
          "output_type": "stream",
          "name": "stdout",
          "text": [
            "Feature names ['sepal length (cm)', 'sepal width (cm)', 'petal length (cm)', 'petal width (cm)']\n",
            "Weights(Coefficients): [-0.39783961  0.83360655 -2.28957943 -0.97852276]\n",
            "Odds Ratio: [0.67176976 2.30160465 0.10130906 0.37586593]\n"
          ]
        }
      ]
    },
    {
      "cell_type": "code",
      "source": [
        "df = pd.DataFrame({'Feature names': dataset.feature_names, 'Weights(Coefficients)': log_reg.coef_[0], 'Odds Ratio': np.exp(log_reg.coef_[0])})\n",
        "df"
      ],
      "metadata": {
        "colab": {
          "base_uri": "https://localhost:8080/",
          "height": 175
        },
        "id": "XOpaTQ4f8kgT",
        "outputId": "d850abf6-9871-4402-f78a-e2eef7f243d7"
      },
      "id": "XOpaTQ4f8kgT",
      "execution_count": 88,
      "outputs": [
        {
          "output_type": "execute_result",
          "data": {
            "text/plain": [
              "       Feature names  Weights(Coefficients)  Odds Ratio\n",
              "0  sepal length (cm)              -0.397840    0.671770\n",
              "1   sepal width (cm)               0.833607    2.301605\n",
              "2  petal length (cm)              -2.289579    0.101309\n",
              "3   petal width (cm)              -0.978523    0.375866"
            ],
            "text/html": [
              "\n",
              "\n",
              "  <div id=\"df-c164372e-43f1-42f1-ac2e-697044a396f7\">\n",
              "    <div class=\"colab-df-container\">\n",
              "      <div>\n",
              "<style scoped>\n",
              "    .dataframe tbody tr th:only-of-type {\n",
              "        vertical-align: middle;\n",
              "    }\n",
              "\n",
              "    .dataframe tbody tr th {\n",
              "        vertical-align: top;\n",
              "    }\n",
              "\n",
              "    .dataframe thead th {\n",
              "        text-align: right;\n",
              "    }\n",
              "</style>\n",
              "<table border=\"1\" class=\"dataframe\">\n",
              "  <thead>\n",
              "    <tr style=\"text-align: right;\">\n",
              "      <th></th>\n",
              "      <th>Feature names</th>\n",
              "      <th>Weights(Coefficients)</th>\n",
              "      <th>Odds Ratio</th>\n",
              "    </tr>\n",
              "  </thead>\n",
              "  <tbody>\n",
              "    <tr>\n",
              "      <th>0</th>\n",
              "      <td>sepal length (cm)</td>\n",
              "      <td>-0.397840</td>\n",
              "      <td>0.671770</td>\n",
              "    </tr>\n",
              "    <tr>\n",
              "      <th>1</th>\n",
              "      <td>sepal width (cm)</td>\n",
              "      <td>0.833607</td>\n",
              "      <td>2.301605</td>\n",
              "    </tr>\n",
              "    <tr>\n",
              "      <th>2</th>\n",
              "      <td>petal length (cm)</td>\n",
              "      <td>-2.289579</td>\n",
              "      <td>0.101309</td>\n",
              "    </tr>\n",
              "    <tr>\n",
              "      <th>3</th>\n",
              "      <td>petal width (cm)</td>\n",
              "      <td>-0.978523</td>\n",
              "      <td>0.375866</td>\n",
              "    </tr>\n",
              "  </tbody>\n",
              "</table>\n",
              "</div>\n",
              "      <button class=\"colab-df-convert\" onclick=\"convertToInteractive('df-c164372e-43f1-42f1-ac2e-697044a396f7')\"\n",
              "              title=\"Convert this dataframe to an interactive table.\"\n",
              "              style=\"display:none;\">\n",
              "\n",
              "  <svg xmlns=\"http://www.w3.org/2000/svg\" height=\"24px\"viewBox=\"0 0 24 24\"\n",
              "       width=\"24px\">\n",
              "    <path d=\"M0 0h24v24H0V0z\" fill=\"none\"/>\n",
              "    <path d=\"M18.56 5.44l.94 2.06.94-2.06 2.06-.94-2.06-.94-.94-2.06-.94 2.06-2.06.94zm-11 1L8.5 8.5l.94-2.06 2.06-.94-2.06-.94L8.5 2.5l-.94 2.06-2.06.94zm10 10l.94 2.06.94-2.06 2.06-.94-2.06-.94-.94-2.06-.94 2.06-2.06.94z\"/><path d=\"M17.41 7.96l-1.37-1.37c-.4-.4-.92-.59-1.43-.59-.52 0-1.04.2-1.43.59L10.3 9.45l-7.72 7.72c-.78.78-.78 2.05 0 2.83L4 21.41c.39.39.9.59 1.41.59.51 0 1.02-.2 1.41-.59l7.78-7.78 2.81-2.81c.8-.78.8-2.07 0-2.86zM5.41 20L4 18.59l7.72-7.72 1.47 1.35L5.41 20z\"/>\n",
              "  </svg>\n",
              "      </button>\n",
              "\n",
              "\n",
              "\n",
              "    <div id=\"df-9ee9dc7e-fbb8-4d2d-a4a9-ab8efd7ea8c3\">\n",
              "      <button class=\"colab-df-quickchart\" onclick=\"quickchart('df-9ee9dc7e-fbb8-4d2d-a4a9-ab8efd7ea8c3')\"\n",
              "              title=\"Suggest charts.\"\n",
              "              style=\"display:none;\">\n",
              "\n",
              "<svg xmlns=\"http://www.w3.org/2000/svg\" height=\"24px\"viewBox=\"0 0 24 24\"\n",
              "     width=\"24px\">\n",
              "    <g>\n",
              "        <path d=\"M19 3H5c-1.1 0-2 .9-2 2v14c0 1.1.9 2 2 2h14c1.1 0 2-.9 2-2V5c0-1.1-.9-2-2-2zM9 17H7v-7h2v7zm4 0h-2V7h2v10zm4 0h-2v-4h2v4z\"/>\n",
              "    </g>\n",
              "</svg>\n",
              "      </button>\n",
              "    </div>\n",
              "\n",
              "<style>\n",
              "  .colab-df-quickchart {\n",
              "    background-color: #E8F0FE;\n",
              "    border: none;\n",
              "    border-radius: 50%;\n",
              "    cursor: pointer;\n",
              "    display: none;\n",
              "    fill: #1967D2;\n",
              "    height: 32px;\n",
              "    padding: 0 0 0 0;\n",
              "    width: 32px;\n",
              "  }\n",
              "\n",
              "  .colab-df-quickchart:hover {\n",
              "    background-color: #E2EBFA;\n",
              "    box-shadow: 0px 1px 2px rgba(60, 64, 67, 0.3), 0px 1px 3px 1px rgba(60, 64, 67, 0.15);\n",
              "    fill: #174EA6;\n",
              "  }\n",
              "\n",
              "  [theme=dark] .colab-df-quickchart {\n",
              "    background-color: #3B4455;\n",
              "    fill: #D2E3FC;\n",
              "  }\n",
              "\n",
              "  [theme=dark] .colab-df-quickchart:hover {\n",
              "    background-color: #434B5C;\n",
              "    box-shadow: 0px 1px 3px 1px rgba(0, 0, 0, 0.15);\n",
              "    filter: drop-shadow(0px 1px 2px rgba(0, 0, 0, 0.3));\n",
              "    fill: #FFFFFF;\n",
              "  }\n",
              "</style>\n",
              "\n",
              "    <script>\n",
              "      async function quickchart(key) {\n",
              "        const containerElement = document.querySelector('#' + key);\n",
              "        const charts = await google.colab.kernel.invokeFunction(\n",
              "            'suggestCharts', [key], {});\n",
              "      }\n",
              "    </script>\n",
              "\n",
              "      <script>\n",
              "\n",
              "function displayQuickchartButton(domScope) {\n",
              "  let quickchartButtonEl =\n",
              "    domScope.querySelector('#df-9ee9dc7e-fbb8-4d2d-a4a9-ab8efd7ea8c3 button.colab-df-quickchart');\n",
              "  quickchartButtonEl.style.display =\n",
              "    google.colab.kernel.accessAllowed ? 'block' : 'none';\n",
              "}\n",
              "\n",
              "        displayQuickchartButton(document);\n",
              "      </script>\n",
              "      <style>\n",
              "    .colab-df-container {\n",
              "      display:flex;\n",
              "      flex-wrap:wrap;\n",
              "      gap: 12px;\n",
              "    }\n",
              "\n",
              "    .colab-df-convert {\n",
              "      background-color: #E8F0FE;\n",
              "      border: none;\n",
              "      border-radius: 50%;\n",
              "      cursor: pointer;\n",
              "      display: none;\n",
              "      fill: #1967D2;\n",
              "      height: 32px;\n",
              "      padding: 0 0 0 0;\n",
              "      width: 32px;\n",
              "    }\n",
              "\n",
              "    .colab-df-convert:hover {\n",
              "      background-color: #E2EBFA;\n",
              "      box-shadow: 0px 1px 2px rgba(60, 64, 67, 0.3), 0px 1px 3px 1px rgba(60, 64, 67, 0.15);\n",
              "      fill: #174EA6;\n",
              "    }\n",
              "\n",
              "    [theme=dark] .colab-df-convert {\n",
              "      background-color: #3B4455;\n",
              "      fill: #D2E3FC;\n",
              "    }\n",
              "\n",
              "    [theme=dark] .colab-df-convert:hover {\n",
              "      background-color: #434B5C;\n",
              "      box-shadow: 0px 1px 3px 1px rgba(0, 0, 0, 0.15);\n",
              "      filter: drop-shadow(0px 1px 2px rgba(0, 0, 0, 0.3));\n",
              "      fill: #FFFFFF;\n",
              "    }\n",
              "  </style>\n",
              "\n",
              "      <script>\n",
              "        const buttonEl =\n",
              "          document.querySelector('#df-c164372e-43f1-42f1-ac2e-697044a396f7 button.colab-df-convert');\n",
              "        buttonEl.style.display =\n",
              "          google.colab.kernel.accessAllowed ? 'block' : 'none';\n",
              "\n",
              "        async function convertToInteractive(key) {\n",
              "          const element = document.querySelector('#df-c164372e-43f1-42f1-ac2e-697044a396f7');\n",
              "          const dataTable =\n",
              "            await google.colab.kernel.invokeFunction('convertToInteractive',\n",
              "                                                     [key], {});\n",
              "          if (!dataTable) return;\n",
              "\n",
              "          const docLinkHtml = 'Like what you see? Visit the ' +\n",
              "            '<a target=\"_blank\" href=https://colab.research.google.com/notebooks/data_table.ipynb>data table notebook</a>'\n",
              "            + ' to learn more about interactive tables.';\n",
              "          element.innerHTML = '';\n",
              "          dataTable['output_type'] = 'display_data';\n",
              "          await google.colab.output.renderOutput(dataTable, element);\n",
              "          const docLink = document.createElement('div');\n",
              "          docLink.innerHTML = docLinkHtml;\n",
              "          element.appendChild(docLink);\n",
              "        }\n",
              "      </script>\n",
              "    </div>\n",
              "  </div>\n"
            ]
          },
          "metadata": {},
          "execution_count": 88
        }
      ]
    },
    {
      "cell_type": "code",
      "source": [
        "# An example of prediction\n",
        "print(log_reg.predict([x_test[0]]))\n",
        "print(log_reg.predict_proba([x_test[0]]))\n"
      ],
      "metadata": {
        "colab": {
          "base_uri": "https://localhost:8080/"
        },
        "id": "ovvUJ7B87VlT",
        "outputId": "000fa9ee-fddf-4cc3-9347-f85e77b7ef9d"
      },
      "id": "ovvUJ7B87VlT",
      "execution_count": 91,
      "outputs": [
        {
          "output_type": "stream",
          "name": "stdout",
          "text": [
            "[2]\n",
            "[[1.31633381e-04 5.98687064e-02 9.39999660e-01]]\n"
          ]
        }
      ]
    }
  ],
  "metadata": {
    "kernelspec": {
      "display_name": "Python 3 (ipykernel)",
      "language": "python",
      "name": "python3"
    },
    "language_info": {
      "codemirror_mode": {
        "name": "ipython",
        "version": 3
      },
      "file_extension": ".py",
      "mimetype": "text/x-python",
      "name": "python",
      "nbconvert_exporter": "python",
      "pygments_lexer": "ipython3",
      "version": "3.9.7"
    },
    "colab": {
      "provenance": []
    }
  },
  "nbformat": 4,
  "nbformat_minor": 5
}